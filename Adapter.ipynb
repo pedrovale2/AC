{
 "cells": [
  {
   "cell_type": "markdown",
   "id": "27e13a98",
   "metadata": {},
   "source": [
    "### This Notebook file serves the sole purpose of adapting the RapidMiner output to the Kaggle's specification"
   ]
  },
  {
   "cell_type": "code",
   "execution_count": 3,
   "id": "255336fc",
   "metadata": {},
   "outputs": [],
   "source": [
    "fileName = \"standard\"                     # Change this String to your fileName (without .CSV extension).\n",
    "delimiterCSV = \";\"                        # Change this String to the delimiter used."
   ]
  },
  {
   "cell_type": "code",
   "execution_count": 4,
   "id": "8f98614a",
   "metadata": {},
   "outputs": [],
   "source": [
    "import pandas as pd\n",
    "\n",
    "account = pd.read_csv('KaggleResults/' + fileName + '.csv', delimiter=delimiterCSV)\n",
    "\n",
    "if 'loan_id' not in account:\n",
    "    tempDf = pd.read_csv('compiledData_test.csv', delimiter=\",\")\n",
    "    account['loan_id'] = tempDf['loan_id']\n",
    "    account = account.reindex(columns=['loan_id', 'confidence(unsuccessful)', 'confidence(successful)', 'prediction(status)'])\n",
    "\n",
    "account.drop(['confidence(successful)', 'prediction(status)'], axis=1, inplace = True)\n",
    "account.rename({'loan_id': 'Id', 'confidence(unsuccessful)': 'Predicted'}, axis=1, inplace = True)\n",
    "account = account.sort_values(by = 'Id', ascending = True)\n",
    "account.to_csv('KaggleResults/' + fileName + '.csv', index=False, sep=',')"
   ]
  },
  {
   "cell_type": "code",
   "execution_count": null,
   "id": "9dffcba1",
   "metadata": {},
   "outputs": [],
   "source": []
  }
 ],
 "metadata": {
  "kernelspec": {
   "display_name": "Python 3 (ipykernel)",
   "language": "python",
   "name": "python3"
  },
  "language_info": {
   "codemirror_mode": {
    "name": "ipython",
    "version": 3
   },
   "file_extension": ".py",
   "mimetype": "text/x-python",
   "name": "python",
   "nbconvert_exporter": "python",
   "pygments_lexer": "ipython3",
   "version": "3.8.11"
  }
 },
 "nbformat": 4,
 "nbformat_minor": 5
}
